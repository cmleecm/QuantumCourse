{
 "cells": [
  {
   "cell_type": "markdown",
   "metadata": {},
   "source": [
    "## Shor's factoring algorithm\n",
    "\n",
    "This exercise is based on the [ProjectQ](http://projectq.ch/) example. You can get the original uncommented code at [ProjectQ repository](https://github.com/ProjectQ-Framework/ProjectQ/blob/develop/examples/shor.py)\n",
    "\n",
    "This algorithm is based on the paper [Parker S. and Planio M.B,Efficient factorization with a single pure qubit and logN mixed qubits](https://arxiv.org/abs/quant-ph/0001066v3)\n",
    "\n",
    "Shor's quantum algorithm is a semiclassical algorithm where one of the steps, looking for the period od a function, is executed on a QPU because it has a better scalability with the number of bits of the number to factor. In the future, when the Quantum Computers can execute large programs, it can beat the most used asymmetric cryptographic algorithm: RSA. This algorithm is based on the assumption that it is very hard to compute the factors of a large number. Shor's algorithm and the experimental proof of the possibility of implementing it in QPUs (for factoring only very small numbers: [15](https://arxiv.org/abs/quant-ph/0112176) and [21](https://arxiv.org/abs/1111.4147)) started the Post-Quantum era, where new cryptographic algorithms are needed. \n",
    "\n",
    "There are several versions of the algorithm, with different requirements in the number of qubits. "
   ]
  },
  {
   "cell_type": "markdown",
   "metadata": {},
   "source": [
    "First, load the Python modules you will need to execute the code. There are some libraries that will compute the classical part, as **gcd** which calculates the Greatest Commun Divisor of two integers.\n",
    "\n",
    "This case use [mathematical quantum maths libraries](http://projectq.readthedocs.io/en/latest/projectq.libs.math.html) and a lot of rules to decompose the [quamtum program in basic gates ](http://projectq.readthedocs.io/en/latest/projectq.setups.decompositions.html)"
   ]
  },
  {
   "cell_type": "code",
   "execution_count": 1,
   "metadata": {},
   "outputs": [],
   "source": [
    "from __future__ import print_function\n",
    "\n",
    "import math\n",
    "import random\n",
    "import sys\n",
    "from fractions import Fraction\n",
    "try:\n",
    "    from math import gcd\n",
    "except ImportError:\n",
    "    from fractions import gcd\n",
    "\n",
    "from builtins import input\n",
    "\n",
    "import projectq.libs.math\n",
    "import projectq.setups.decompositions\n",
    "from projectq.backends import Simulator, ResourceCounter\n",
    "from projectq.cengines import (MainEngine,\n",
    "                               AutoReplacer,\n",
    "                               LocalOptimizer,\n",
    "                               TagRemover,\n",
    "                               InstructionFilter,\n",
    "                               DecompositionRuleSet)\n",
    "from projectq.libs.math import (AddConstant,\n",
    "                                AddConstantModN,\n",
    "                                MultiplyByConstantModN)\n",
    "from projectq.meta import Control\n",
    "from projectq.ops import (X,\n",
    "                          Measure,\n",
    "                          H,\n",
    "                          R,\n",
    "                          QFT,\n",
    "                          Swap,\n",
    "                          get_inverse,\n",
    "                          BasicMathGate,\n",
    "                          All)\n",
    "# Filter function, which defines the gate set for the first optimization\n",
    "# (don't decompose QFTs and iQFTs to make cancellation easier)\n",
    "def high_level_gates(eng, cmd):\n",
    "    g = cmd.gate\n",
    "    if g == QFT or get_inverse(g) == QFT or g == Swap:\n",
    "        return True\n",
    "    if isinstance(g, BasicMathGate):\n",
    "        return False\n",
    "        if isinstance(g, AddConstant):\n",
    "            return True\n",
    "        elif isinstance(g, AddConstantModN):\n",
    "            return True\n",
    "        return False\n",
    "    return eng.next_engine.is_available(cmd)"
   ]
  },
  {
   "cell_type": "markdown",
   "metadata": {},
   "source": [
    "Create the Engine. This time, several optimizations will be included. The program will also count the needed resources using the Engine ResourceCounter."
   ]
  },
  {
   "cell_type": "code",
   "execution_count": 2,
   "metadata": {},
   "outputs": [],
   "source": [
    "# build compilation engine list\n",
    "resource_counter = ResourceCounter()\n",
    "rule_set = DecompositionRuleSet(modules=[projectq.libs.math,\n",
    "                                         projectq.setups.decompositions])\n",
    "compilerengines = [AutoReplacer(rule_set),\n",
    "                   InstructionFilter(high_level_gates),\n",
    "                   TagRemover(),\n",
    "                   LocalOptimizer(3),\n",
    "                   AutoReplacer(rule_set),\n",
    "                   TagRemover(),\n",
    "                   LocalOptimizer(3),\n",
    "                   resource_counter]\n",
    "\n",
    "# make the compiler and run the circuit on the simulator backend\n",
    "eng = MainEngine(Simulator(), compilerengines)"
   ]
  },
  {
   "cell_type": "markdown",
   "metadata": {},
   "source": [
    "Choose the integer to factor. Execute the next cell and answer the question. Select a small number as 15 or 21 and odd, or you can wait a long time! or the solution is trivial."
   ]
  },
  {
   "cell_type": "code",
   "execution_count": 3,
   "metadata": {},
   "outputs": [
    {
     "name": "stdout",
     "output_type": "stream",
     "text": [
      "\n",
      "\t\u001b[37mprojectq\u001b[0m\n",
      "\t--------\n",
      "\tImplementation of Shor's algorithm.\n",
      "\tNumber to factor: 21\n",
      "\n",
      "\tFactoring N = 21: \u001b[0m"
     ]
    }
   ],
   "source": [
    "# print welcome message and ask the user for the number to factor\n",
    "N=2\n",
    "while gcd(2,N)==2:\n",
    "    print(\"\\n\\t\\033[37mprojectq\\033[0m\\n\\t--------\\n\\tImplementation of Shor\"\n",
    "      \"\\'s algorithm.\", end=\"\")\n",
    "    N = int(input('\\n\\tNumber to factor: '))\n",
    "    if gcd(2,N)==2:\n",
    "        print(\"\\n\\n%d is EVEN. Please, select another integer\"%N)\n",
    "    \n",
    "print(\"\\n\\tFactoring N = {}: \\033[0m\".format(N), end=\"\")"
   ]
  },
  {
   "cell_type": "markdown",
   "metadata": {},
   "source": [
    "Ramdomly, the algorithm selects one initial factor and tests if it is a factor."
   ]
  },
  {
   "cell_type": "code",
   "execution_count": 4,
   "metadata": {},
   "outputs": [
    {
     "name": "stdout",
     "output_type": "stream",
     "text": [
      "\tInitial guess: 17\u001b[0m\n"
     ]
    }
   ],
   "source": [
    "# choose a base at random:\n",
    "a = int(random.random()*N)\n",
    "if not gcd(a, N) == 1:\n",
    "    print(\"\\n\\n\\t\\033[92mOoops, we were lucky: Chose non relative prime\"\n",
    "          \" by accident :)\")\n",
    "    print(\"\\tFactor: {}\\033[0m\".format(gcd(a, N)))\n",
    "\n",
    "print(\"\\tInitial guess: {}\\033[0m\".format(a))\n"
   ]
  },
  {
   "cell_type": "markdown",
   "metadata": {},
   "source": [
    "Now, this is the Quantum part: find the period of a function. The origial idea is due to Simon who sent it to a conference where Shor was a reviewer. Lucky person, because he knew that finding a period of a function was the weak point of the factorisation. And now, he could do it!.\n",
    "\n",
    "First of all, we need to calculate the number of qubits **n** that are needed. Afterwards, we allocate a Quantum register with this number of qubits. This register is initialized to $|0\\rangle^{\\otimes n-1} \\otimes |1\\rangle$"
   ]
  },
  {
   "cell_type": "code",
   "execution_count": 5,
   "metadata": {},
   "outputs": [
    {
     "name": "stdout",
     "output_type": "stream",
     "text": [
      "Algorithm will use 6 qubits to produce 10 measurements\n"
     ]
    }
   ],
   "source": [
    "n = int(math.ceil(math.log(N, 2)))\n",
    "\n",
    "x = eng.allocate_qureg(n)\n",
    "\n",
    "X | x[0]\n",
    "\n",
    "measurements = [0] * (2 * n)  # will hold the 2n measurement results\n",
    "\n",
    "print(\"Algorithm will use %d qubits to produce %d measurements\"%(n+1,2*n))\n"
   ]
  },
  {
   "cell_type": "markdown",
   "metadata": {},
   "source": [
    "We have to allocate one additional qubit. This is the only one that have to be measured!."
   ]
  },
  {
   "cell_type": "code",
   "execution_count": 6,
   "metadata": {},
   "outputs": [],
   "source": [
    "ctrl_qubit = eng.allocate_qubit()"
   ]
  },
  {
   "cell_type": "markdown",
   "metadata": {},
   "source": [
    "Ok. Now this is the trick: The quantum algorithm. Because ProjectQ has some quantum routines implemented as Multiplication, it is really easy to program it. This loop implements this circuit:\n",
    "\n",
    "<img src=\"Images/short.jpg\"/>\n",
    "\n",
    "Where each $R'_j(\\phi'_j)$ is a phase shift gate with an angle $$\\phi'_j={-2\\pi \\sum_{k=2}^{j}\\frac{m_{j-k}}{2^k}}$$"
   ]
  },
  {
   "cell_type": "code",
   "execution_count": 7,
   "metadata": {},
   "outputs": [
    {
     "name": "stdout",
     "output_type": "stream",
     "text": [
      "\u001b[95m0\u001b[0m\u001b[95m0\u001b[0m\u001b[95m0\u001b[0m\u001b[95m0\u001b[0m\u001b[95m0\u001b[0m\u001b[95m0\u001b[0m\u001b[95m0\u001b[0m\u001b[95m0\u001b[0m\u001b[95m0\u001b[0m\u001b[95m0\u001b[0m"
     ]
    }
   ],
   "source": [
    "for k in range(2 * n):\n",
    "    current_a = pow(a, 1 << (2 * n - 1 - k), N)\n",
    "\n",
    "    H | ctrl_qubit\n",
    "    with Control(eng, ctrl_qubit):\n",
    "        MultiplyByConstantModN(current_a, N) | x\n",
    "\n",
    "    for i in range(k):\n",
    "        if measurements[i]:\n",
    "            R(-math.pi/(1 << (k - i))) | ctrl_qubit\n",
    "    H | ctrl_qubit\n",
    "\n",
    "    # and measure\n",
    "    Measure | ctrl_qubit\n",
    "    eng.flush()\n",
    "    measurements[k] = int(ctrl_qubit)\n",
    "    if measurements[k]:\n",
    "        X | ctrl_qubit\n",
    "\n",
    "    \n",
    "    print(\"\\033[95m{}\\033[0m\".format(measurements[k]), end=\"\")\n",
    "    sys.stdout.flush()\n",
    "\n",
    "All(Measure) | x"
   ]
  },
  {
   "cell_type": "markdown",
   "metadata": {},
   "source": [
    "Now, we conver the results to the final period, using classical methods."
   ]
  },
  {
   "cell_type": "code",
   "execution_count": 8,
   "metadata": {},
   "outputs": [],
   "source": [
    "# turn the measured values into a number in [0,1)\n",
    "y = sum([(measurements[2 * n - 1 - i]*1. / (1 << (i + 1)))\n",
    "         for i in range(2 * n)])\n",
    "\n",
    "# continued fraction expansion to get denominator (the period?)\n",
    "r = Fraction(y).limit_denominator(N-1).denominator\n"
   ]
  },
  {
   "cell_type": "markdown",
   "metadata": {},
   "source": [
    "And we try to find the factors. Becareful, the algorithm can fail to find a factor."
   ]
  },
  {
   "cell_type": "code",
   "execution_count": 9,
   "metadata": {},
   "outputs": [
    {
     "name": "stdout",
     "output_type": "stream",
     "text": [
      "\n",
      "\n",
      "\t\u001b[92mFactors found :-) : 3 * 7 = 21\u001b[0m\n"
     ]
    }
   ],
   "source": [
    "# try to determine the factors\n",
    "if r % 2 != 0:\n",
    "    r *= 2\n",
    "apowrhalf = pow(a, r >> 1, N)\n",
    "f1 = gcd(apowrhalf + 1, N)\n",
    "f2 = gcd(apowrhalf - 1, N)\n",
    "if ((not f1 * f2 == N) and f1 * f2 > 1 and\n",
    "        int(1. * N / (f1 * f2)) * f1 * f2 == N):\n",
    "    f1, f2 = f1*f2, int(N/(f1*f2))\n",
    "if f1 * f2 == N and f1 > 1 and f2 > 1:\n",
    "    print(\"\\n\\n\\t\\033[92mFactors found :-) : {} * {} = {}\\033[0m\"\n",
    "          .format(f1, f2, N))\n",
    "else:\n",
    "    print(\"\\n\\n\\t\\033[91mBad luck: Found {} and {}\\033[0m\".format(f1,\n",
    "                                                                  f2))\n"
   ]
  },
  {
   "cell_type": "markdown",
   "metadata": {},
   "source": [
    "And we print the final resources we have used."
   ]
  },
  {
   "cell_type": "code",
   "execution_count": 10,
   "metadata": {},
   "outputs": [
    {
     "name": "stdout",
     "output_type": "stream",
     "text": [
      "Gate class counts:\n",
      "    AllocateQubitGate : 166\n",
      "    CCR : 1476\n",
      "    CR : 7176\n",
      "    CSwapGate : 50\n",
      "    CXGate : 200\n",
      "    DeallocateQubitGate : 160\n",
      "    HGate : 2592\n",
      "    MeasureGate : 15\n",
      "    R : 600\n",
      "    XGate : 201\n",
      "\n",
      "Gate counts:\n",
      "    Allocate : 166\n",
      "    CCR(0.098174770425) : 20\n",
      "    CCR(0.196349540849) : 32\n",
      "    CCR(0.392699081699) : 72\n",
      "    CCR(0.490873852124) : 20\n",
      "    CCR(0.785398163397) : 80\n",
      "    CCR(0.981747704246) : 40\n",
      "    CCR(1.079922474671) : 20\n",
      "    CCR(1.178097245096) : 14\n",
      "    CCR(1.276272015521) : 12\n",
      "    CCR(1.570796326795) : 186\n",
      "    CCR(1.66897109722) : 20\n",
      "    CCR(1.865320638069) : 8\n",
      "    CCR(1.963495408494) : 70\n",
      "    CCR(2.159844949343) : 20\n",
      "    CCR(2.356194490192) : 64\n",
      "    CCR(2.552544031041) : 16\n",
      "    CCR(2.94524311274) : 10\n",
      "    CCR(3.14159265359) : 300\n",
      "    CCR(3.337942194439) : 20\n",
      "    CCR(3.730641276138) : 14\n",
      "    CCR(3.926990816987) : 86\n",
      "    CCR(4.123340357836) : 10\n",
      "    CCR(4.319689898686) : 50\n",
      "    CCR(4.417864669111) : 4\n",
      "    CCR(4.61421420996) : 10\n",
      "    CCR(4.712388980385) : 114\n",
      "    CCR(5.006913291659) : 6\n",
      "    CCR(5.105088062084) : 16\n",
      "    CCR(5.203262832509) : 10\n",
      "    CCR(5.301437602933) : 20\n",
      "    CCR(5.497787143782) : 40\n",
      "    CCR(5.792311455056) : 10\n",
      "    CCR(5.890486225481) : 36\n",
      "    CCR(6.08683576633) : 16\n",
      "    CCR(6.185010536755) : 10\n",
      "    CR(0.098174770425) : 220\n",
      "    CR(0.196349540849) : 440\n",
      "    CR(0.392699081699) : 660\n",
      "    CR(0.785398163397) : 880\n",
      "    CR(1.570796326795) : 1188\n",
      "    CR(1.963495408494) : 100\n",
      "    CR(2.061670178919) : 100\n",
      "    CR(3.14159265359) : 100\n",
      "    CR(3.926990816987) : 100\n",
      "    CR(4.123340357836) : 100\n",
      "    CR(4.712388980385) : 1088\n",
      "    CR(5.497787143783) : 880\n",
      "    CR(5.890486225481) : 660\n",
      "    CR(6.086835766331) : 440\n",
      "    CR(6.185010536755) : 220\n",
      "    CSwap : 50\n",
      "    CX : 200\n",
      "    Deallocate : 160\n",
      "    H : 2592\n",
      "    Measure : 15\n",
      "    R(2.159844949343) : 100\n",
      "    R(2.356194490192) : 100\n",
      "    R(3.14159265359) : 100\n",
      "    R(4.221515128261) : 100\n",
      "    R(4.319689898686) : 100\n",
      "    R(4.712388980385) : 100\n",
      "    X : 201\n",
      "\n",
      "Max. width (number of qubits) : 13.\n"
     ]
    }
   ],
   "source": [
    "print(resource_counter)  # print resource usage"
   ]
  },
  {
   "cell_type": "code",
   "execution_count": null,
   "metadata": {},
   "outputs": [],
   "source": []
  },
  {
   "cell_type": "code",
   "execution_count": null,
   "metadata": {},
   "outputs": [],
   "source": []
  }
 ],
 "metadata": {
  "kernelspec": {
   "display_name": "Python 3",
   "language": "python",
   "name": "python3"
  },
  "language_info": {
   "codemirror_mode": {
    "name": "ipython",
    "version": 3
   },
   "file_extension": ".py",
   "mimetype": "text/x-python",
   "name": "python",
   "nbconvert_exporter": "python",
   "pygments_lexer": "ipython3",
   "version": "3.7.0"
  }
 },
 "nbformat": 4,
 "nbformat_minor": 2
}
