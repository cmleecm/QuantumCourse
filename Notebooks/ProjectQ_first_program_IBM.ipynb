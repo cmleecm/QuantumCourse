{
 "cells": [
  {
   "cell_type": "markdown",
   "metadata": {},
   "source": [
    "# Compiling code for IBM Q Experience"
   ]
  },
  {
   "cell_type": "markdown",
   "metadata": {},
   "source": [
    "This exercise will use the [IBM Quantum Experience](https://quantumexperience.ng.bluemix.net/qx) infrastructure. \n",
    "\n",
    "**Before execute it you should have credentials to use it (user - usually your email - and password)**\n",
    "\n",
    "**Credentials are introduced when the engine is really executed (\"flush\")**"
   ]
  },
  {
   "cell_type": "markdown",
   "metadata": {},
   "source": [
    "First, configure matplotlib to show the results in the Notebook"
   ]
  },
  {
   "cell_type": "code",
   "execution_count": 1,
   "metadata": {},
   "outputs": [],
   "source": [
    "%matplotlib inline\n",
    "import matplotlib.pyplot as plt\n",
    "import numpy as np\n",
    "plt.rc(\"figure\",figsize=(20,10))"
   ]
  },
  {
   "cell_type": "markdown",
   "metadata": {},
   "source": [
    "Import the ProjectQ operations and the setups to work with the different IBM Quantum hardware: 5 qubits and 16 qubits\n",
    "\n",
    "Also, instead the usual Simulator backend, now the [IBMBackend](https://projectq.readthedocs.io/en/latest/projectq.backends.html?highlight=IBMBackend) is needed."
   ]
  },
  {
   "cell_type": "code",
   "execution_count": 2,
   "metadata": {},
   "outputs": [],
   "source": [
    "import projectq.setups.ibm # Imports the default compiler to map to IBM QE for 5 qubits\n",
    "import projectq.setups.ibm16 # Imports the default compiler to map to IBM QE for 16 qubits\n",
    "from projectq.backends import IBMBackend\n",
    "from projectq.ops import Measure, Entangle, QFT, All,CNOT,Swap\n",
    "from projectq import MainEngine\n",
    "\n",
    "\n"
   ]
  },
  {
   "cell_type": "markdown",
   "metadata": {},
   "source": [
    "Create the compiler using the default compiler engines for the IBM backend and allocate a quantum register of 3 qubits.\n",
    "\n",
    "You can use three different devices:\n",
    "\n",
    "* [ibmqx2](https://github.com/QISKit/ibmqx-backend-information/tree/master/backends/ibmqx2), IBM 5 qubits QPU Sparrow\n",
    "* [ibmqx4](https://github.com/QISKit/ibmqx-backend-information/tree/master/backends/ibmqx4), IBM 5 qubits QPU Raven\n",
    "* [ibmqx5](https://github.com/QISKit/ibmqx-backend-information/tree/master/backends/ibmqx5), IBM 16 qubits QPU Albatross\n",
    "\n",
    "Hint: Use the simulator (selecting *use_hardware=False*) except if you have time. Quantum Processing Units (QPUs) are usually very busy. *num_rums* select the number of times that you experiment is executed, so you can calculate lated the probability of each result (quantum state)."
   ]
  },
  {
   "cell_type": "code",
   "execution_count": 3,
   "metadata": {},
   "outputs": [],
   "source": [
    "engine = MainEngine(IBMBackend(use_hardware=False, \n",
    "                               num_runs=1024, \n",
    "                               verbose=True, \n",
    "                               device='ibmqx4'),\n",
    "                    engine_list=projectq.setups.ibm.get_engine_list())\n",
    "qureg = engine.allocate_qureg(3)\n"
   ]
  },
  {
   "cell_type": "markdown",
   "metadata": {
    "scrolled": true
   },
   "source": [
    "[Entangle](https://projectq.readthedocs.io/en/latest/projectq.ops.html?highlight=Entangle#projectq.ops.EntangleGate) the quantum register and apply a Quantum Fourier Transform (QFT) operation on it\n",
    "\n",
    "Note: QFT does not work for Ibmqx2"
   ]
  },
  {
   "cell_type": "code",
   "execution_count": 4,
   "metadata": {},
   "outputs": [],
   "source": [
    "Entangle | qureg\n",
    "QFT | qureg"
   ]
  },
  {
   "cell_type": "markdown",
   "metadata": {
    "collapsed": true
   },
   "source": [
    "Measure the quantum register and run the circuit:"
   ]
  },
  {
   "cell_type": "code",
   "execution_count": 5,
   "metadata": {},
   "outputs": [
    {
     "name": "stdout",
     "output_type": "stream",
     "text": [
      "IBM QE user (e-mail) > agomez@cesga.es\n",
      "IBM QE password > ········\n"
     ]
    }
   ],
   "source": [
    "%%capture --no-stderr out\n",
    "All(Measure) | qureg\n",
    "engine.flush()\n"
   ]
  },
  {
   "cell_type": "markdown",
   "metadata": {},
   "source": [
    "Plot the measurement result:"
   ]
  },
  {
   "cell_type": "code",
   "execution_count": 6,
   "metadata": {},
   "outputs": [
    {
     "data": {
      "image/png": "[encoded data removed]",
      "text/plain": [
       "<matplotlib.figure.Figure at 0x7f7df4df4588>"
      ]
     },
     "metadata": {},
     "output_type": "display_data"
    }
   ],
   "source": [
    "try:\n",
    "    state=[]\n",
    "    probability=[]\n",
    "    for i in out.stdout.split(\"Done.\\n\")[1].split(\"\\n\"):\n",
    "        i=i.split(\" \")\n",
    "        if (i[0]!=\"\"):\n",
    "            state.append(\"|{}>\".format(i[0]))\n",
    "            probability.append(float(i[-1].split(\"*\")[0]))\n",
    "    ind = np.arange(len(state))\n",
    "    plt.bar(ind,probability,0.9)\n",
    "    plt.xticks(ind+0.45,state,rotation=\"vertical\")\n",
    "    plt.title(\"Three qubit entanglement + QFT\")\n",
    "    plt.ylabel(\"Probability of each measurement\")\n",
    "    plt.xlabel(\"State\")\n",
    "except:\n",
    "    print(\"Error spliting data....\")\n",
    "    print(out)\n",
    "    \n",
    "\n",
    "    "
   ]
  },
  {
   "cell_type": "markdown",
   "metadata": {},
   "source": [
    "Print the real executed program on the IBM QPU that ProjectQ has created for you."
   ]
  },
  {
   "cell_type": "code",
   "execution_count": 7,
   "metadata": {},
   "outputs": [
    {
     "name": "stdout",
     "output_type": "stream",
     "text": [
      "- Authenticating...\n",
      "- Running code: \n",
      "include \"qelib1.inc\";\n",
      "qreg q[3];\n",
      "creg c[3];\n",
      "h q[2];\n",
      "cx q[2], q[1];\n",
      "cx q[2], q[0];\n",
      "u1(0.392699081698) q[2];\n",
      "h q[0];\n",
      "u1(0.785398163398) q[0];\n",
      "u1(0.785398163398) q[1];\n",
      "cx q[1], q[0];\n",
      "u1(11.780972450962) q[0];\n",
      "cx q[1], q[0];\n",
      "u1(0.392699081698) q[0];\n",
      "cx q[2], q[0];\n",
      "u1(12.173671532661) q[0];\n",
      "cx q[2], q[0];\n",
      "u1(0.785398163398) q[2];\n",
      "h q[1];\n",
      "u1(0.785398163398) q[1];\n",
      "cx q[2], q[1];\n",
      "u1(11.780972450962) q[1];\n",
      "cx q[2], q[1];\n",
      "h q[2];\n",
      "measure q[2] -> c[2];\n",
      "measure q[1] -> c[1];\n",
      "measure q[0] -> c[0];\n",
      "- Waiting for results...\n",
      "Waiting for results. [Job ID: 5c44c91d718f2300542fb4de]\n",
      "- Done.\n",
      "010 with p = 0.134765625\n",
      "000 with p = 0.2607421875*\n",
      "111 with p = 0.21484375\n",
      "110 with p = 0.037109375\n",
      "101 with p = 0.033203125\n",
      "011 with p = 0.1220703125\n",
      "100 with p = 0.197265625\n",
      "\n"
     ]
    }
   ],
   "source": [
    "print(out)"
   ]
  }
 ],
 "metadata": {
  "kernelspec": {
   "display_name": "Python 3",
   "language": "python",
   "name": "python3"
  },
  "language_info": {
   "codemirror_mode": {
    "name": "ipython",
    "version": 3
   },
   "file_extension": ".py",
   "mimetype": "text/x-python",
   "name": "python",
   "nbconvert_exporter": "python",
   "pygments_lexer": "ipython3",
   "version": "3.5.5"
  }
 },
 "nbformat": 4,
 "nbformat_minor": 1
}
